{
 "cells": [
  {
   "cell_type": "code",
   "execution_count": 1,
   "id": "ebda9ab6-41bb-41ee-b744-fc5795c9de80",
   "metadata": {},
   "outputs": [
    {
     "name": "stdin",
     "output_type": "stream",
     "text": [
      "Ingrese el primer número:  5345\n",
      "Ingrese el segundo número:  345\n"
     ]
    },
    {
     "name": "stdout",
     "output_type": "stream",
     "text": [
      "Suma: 5690\n",
      "Diferencia: 5000\n",
      "Producto: 1844025\n",
      "Cociente: 15.492753623188406\n"
     ]
    }
   ],
   "source": [
    "# Calculadora simple:\n",
    "# Solicita al usuario que ingrese dos números enteros.\n",
    "a = int(input(\"Ingrese el primer número: \"))\n",
    "b = int(input(\"Ingrese el segundo número: \"))\n",
    "\n",
    "# Muestra la suma, la diferencia, el producto y el cociente de los números ingresados.\n",
    "print(\"Suma:\", a + b)\n",
    "print(\"Diferencia:\", a - b)\n",
    "print(\"Producto:\", a * b)\n",
    "print(\"Cociente:\", a / b)  # Observación: Esto puede devolver un valor decimal incluso si los números ingresados son enteros."
   ]
  },
  {
   "cell_type": "code",
   "execution_count": 2,
   "id": "48f0cf06-091b-41c0-aaa3-80eed14174ec",
   "metadata": {},
   "outputs": [
    {
     "name": "stdin",
     "output_type": "stream",
     "text": [
      "Ingrese el monto principal:  3454\n",
      "Ingrese la tasa de interés:  3\n",
      "Ingrese el período de tiempo:  12\n"
     ]
    },
    {
     "name": "stdout",
     "output_type": "stream",
     "text": [
      "Interés Simple: 1243.44\n"
     ]
    }
   ],
   "source": [
    "# Calculadora de Interés Simple:\n",
    "# Solicita al usuario que ingrese el monto principal, la tasa de interés y el período de tiempo.\n",
    "p = float(input(\"Ingrese el monto principal: \"))\n",
    "r = float(input(\"Ingrese la tasa de interés: \"))\n",
    "t = float(input(\"Ingrese el período de tiempo: \"))\n",
    "\n",
    "# Calcula el interés simple utilizando la fórmula: interés = (principal * tasa * tiempo) / 100\n",
    "interest = (p * r * t) / 100\n",
    "\n",
    "# Muestra el interés simple calculado.\n",
    "print(\"Interés Simple:\", interest)"
   ]
  },
  {
   "cell_type": "code",
   "execution_count": 3,
   "id": "c4c7d7c3-b4b0-4f24-ad45-17be5530b593",
   "metadata": {},
   "outputs": [
    {
     "name": "stdin",
     "output_type": "stream",
     "text": [
      "Ingrese un número:  432\n"
     ]
    },
    {
     "name": "stdout",
     "output_type": "stream",
     "text": [
      "Par\n"
     ]
    }
   ],
   "source": [
    "# Comprobar si un número es par o impar:\n",
    "# Solicita al usuario que ingrese un número.\n",
    "num = int(input(\"Ingrese un número: \"))\n",
    "\n",
    "# Comprueba si el número es divisible por 2 para determinar si es par o impar.\n",
    "if num % 2 == 0:\n",
    "    print(\"Par\")\n",
    "else:\n",
    "    print(\"Impar\")"
   ]
  },
  {
   "cell_type": "code",
   "execution_count": 4,
   "id": "4c0a1778-5550-41bd-9db4-57afb953e709",
   "metadata": {},
   "outputs": [
    {
     "name": "stdin",
     "output_type": "stream",
     "text": [
      "Ingrese el primer número:  545\n",
      "Ingrese el segundo número:  534\n",
      "Ingrese el tercer número:  645\n"
     ]
    },
    {
     "name": "stdout",
     "output_type": "stream",
     "text": [
      "Número más grande: 645.0\n"
     ]
    }
   ],
   "source": [
    "# Encontrar el número más grande entre tres números:\n",
    "# Solicita al usuario que ingrese tres números.\n",
    "a = float(input(\"Ingrese el primer número: \"))\n",
    "b = float(input(\"Ingrese el segundo número: \"))\n",
    "c = float(input(\"Ingrese el tercer número: \"))\n",
    "\n",
    "# Encuentra el número más grande utilizando la función max().\n",
    "max_num = max(a, b, c)\n",
    "\n",
    "# Muestra el número más grande encontrado.\n",
    "print(\"Número más grande:\", max_num)"
   ]
  },
  {
   "cell_type": "code",
   "execution_count": 5,
   "id": "be7f7813-f539-4729-a045-b4bfaf5d6a31",
   "metadata": {},
   "outputs": [
    {
     "name": "stdin",
     "output_type": "stream",
     "text": [
      "Ingrese un número:  7\n"
     ]
    },
    {
     "name": "stdout",
     "output_type": "stream",
     "text": [
      "7 x 1 = 7\n",
      "7 x 2 = 14\n",
      "7 x 3 = 21\n",
      "7 x 4 = 28\n",
      "7 x 5 = 35\n",
      "7 x 6 = 42\n",
      "7 x 7 = 49\n",
      "7 x 8 = 56\n",
      "7 x 9 = 63\n",
      "7 x 10 = 70\n"
     ]
    }
   ],
   "source": [
    "# Imprimir la tabla de multiplicar:\n",
    "# Solicita al usuario que ingrese un número.\n",
    "num = int(input(\"Ingrese un número: \"))\n",
    "\n",
    "# Utiliza un bucle for para iterar desde 1 hasta 10 e imprime cada multiplicación.\n",
    "for i in range(1, 11):\n",
    "    print(f\"{num} x {i} = {num * i}\")"
   ]
  },
  {
   "cell_type": "code",
   "execution_count": 6,
   "id": "7a39f46e-4efe-4a38-81d0-7b57c2813bcf",
   "metadata": {},
   "outputs": [
    {
     "name": "stdin",
     "output_type": "stream",
     "text": [
      "Ingrese la temperatura en grados Celsius:  29\n"
     ]
    },
    {
     "name": "stdout",
     "output_type": "stream",
     "text": [
      "Temperatura en grados Fahrenheit: 84.2\n"
     ]
    }
   ],
   "source": [
    "# Convertir Celsius a Fahrenheit:\n",
    "# Solicita al usuario que ingrese una temperatura en grados Celsius.\n",
    "celsius = float(input(\"Ingrese la temperatura en grados Celsius: \"))\n",
    "\n",
    "# Convierte la temperatura de Celsius a Fahrenheit utilizando la fórmula correspondiente.\n",
    "fahrenheit = (celsius * 9 / 5) + 32\n",
    "\n",
    "# Muestra la temperatura convertida en Fahrenheit.\n",
    "print(\"Temperatura en grados Fahrenheit:\", fahrenheit)"
   ]
  },
  {
   "cell_type": "code",
   "execution_count": 7,
   "id": "533ba3d5-862d-48ca-9d08-5f9cbe6b0a03",
   "metadata": {},
   "outputs": [
    {
     "name": "stdout",
     "output_type": "stream",
     "text": [
      "Longitud de la cadena: 13\n",
      "En mayúsculas: ¡HOLA, MUNDO!\n",
      "En minúsculas: ¡hola, mundo!\n",
      "Cadena invertida: !odnuM ,aloH¡\n"
     ]
    }
   ],
   "source": [
    "# Operaciones simples de cadenas:\n",
    "# Define una cadena.\n",
    "cadena = \"¡Hola, Mundo!\"\n",
    "\n",
    "# Imprime la longitud de la cadena.\n",
    "print(\"Longitud de la cadena:\", len(cadena))\n",
    "\n",
    "# Imprime la cadena en mayúsculas.\n",
    "print(\"En mayúsculas:\", cadena.upper())\n",
    "\n",
    "# Imprime la cadena en minúsculas.\n",
    "print(\"En minúsculas:\", cadena.lower())\n",
    "\n",
    "# Imprime la cadena al revés.\n",
    "print(\"Cadena invertida:\", cadena[::-1])"
   ]
  },
  {
   "cell_type": "code",
   "execution_count": 8,
   "id": "872018dc-c404-4c99-b315-8fde5638ba6c",
   "metadata": {},
   "outputs": [
    {
     "name": "stdin",
     "output_type": "stream",
     "text": [
      "Ingrese un año:  2020\n"
     ]
    },
    {
     "name": "stdout",
     "output_type": "stream",
     "text": [
      "Año bisiesto\n"
     ]
    }
   ],
   "source": [
    "# Comprobar si un año es bisiesto:\n",
    "def es_año_bisiesto(año):\n",
    "    # Comprueba si el año es divisible por 4 pero no por 100, o si es divisible por 400.\n",
    "    if (año % 4 == 0 and año % 100 != 0) or (año % 400 == 0):\n",
    "        return True\n",
    "    else:\n",
    "        return False\n",
    "    \n",
    "# Solicita al usuario que ingrese un año.\n",
    "año = int(input(\"Ingrese un año: \"))\n",
    "\n",
    "# Llama a la función es_año_bisiesto y muestra el resultado.\n",
    "if es_año_bisiesto(año):\n",
    "    print(\"Año bisiesto\")\n",
    "else:\n",
    "    print(\"No es un año bisiesto\")"
   ]
  },
  {
   "cell_type": "code",
   "execution_count": 9,
   "id": "eabcdd14-20c8-48b7-8bdf-2d40f294c0c6",
   "metadata": {},
   "outputs": [
    {
     "name": "stdin",
     "output_type": "stream",
     "text": [
      "Ingrese una cadena:  Francia\n"
     ]
    },
    {
     "name": "stdout",
     "output_type": "stream",
     "text": [
      "Número de vocales: 3\n"
     ]
    }
   ],
   "source": [
    "# Contar vocales en una cadena:\n",
    "def contar_vocales(cadena):\n",
    "    # Define las vocales en mayúsculas y minúsculas.\n",
    "    vocales = 'aeiouAEIOU'\n",
    "    contador = 0\n",
    "\n",
    "    # Itera sobre cada carácter en la cadena y cuenta las vocales.\n",
    "    for char in cadena:\n",
    "        if char in vocales:\n",
    "            contador += 1\n",
    "    return contador\n",
    "\n",
    "# Solicita al usuario que ingrese una cadena.\n",
    "cadena = input(\"Ingrese una cadena: \")\n",
    "\n",
    "# Llama a la función contar_vocales y muestra el resultado.\n",
    "print(\"Número de vocales:\", contar_vocales(cadena))"
   ]
  },
  {
   "cell_type": "code",
   "execution_count": 10,
   "id": "250ed393-a566-421b-89f1-e83ec0018203",
   "metadata": {},
   "outputs": [
    {
     "name": "stdin",
     "output_type": "stream",
     "text": [
      "Ingrese un número:  452\n"
     ]
    },
    {
     "name": "stdout",
     "output_type": "stream",
     "text": [
      "Número positivo\n"
     ]
    }
   ],
   "source": [
    "# Comprobar si un número es positivo, negativo o cero:\n",
    "num = float(input(\"Ingrese un número: \"))\n",
    "\n",
    "if num > 0:\n",
    "    print(\"Número positivo\")\n",
    "elif num < 0:\n",
    "    print(\"Número negativo\")\n",
    "else:\n",
    "    print(\"Cero\")"
   ]
  },
  {
   "cell_type": "code",
   "execution_count": 11,
   "id": "6f2bb6fb-fccd-45d9-a0b2-2b8b356d7e91",
   "metadata": {},
   "outputs": [
    {
     "name": "stdin",
     "output_type": "stream",
     "text": [
      "Ingrese el rango inicial:  100\n",
      "Ingrese el rango final:  1000\n"
     ]
    },
    {
     "name": "stdout",
     "output_type": "stream",
     "text": [
      "Números primos: [101, 103, 107, 109, 113, 127, 131, 137, 139, 149, 151, 157, 163, 167, 173, 179, 181, 191, 193, 197, 199, 211, 223, 227, 229, 233, 239, 241, 251, 257, 263, 269, 271, 277, 281, 283, 293, 307, 311, 313, 317, 331, 337, 347, 349, 353, 359, 367, 373, 379, 383, 389, 397, 401, 409, 419, 421, 431, 433, 439, 443, 449, 457, 461, 463, 467, 479, 487, 491, 499, 503, 509, 521, 523, 541, 547, 557, 563, 569, 571, 577, 587, 593, 599, 601, 607, 613, 617, 619, 631, 641, 643, 647, 653, 659, 661, 673, 677, 683, 691, 701, 709, 719, 727, 733, 739, 743, 751, 757, 761, 769, 773, 787, 797, 809, 811, 821, 823, 827, 829, 839, 853, 857, 859, 863, 877, 881, 883, 887, 907, 911, 919, 929, 937, 941, 947, 953, 967, 971, 977, 983, 991, 997]\n"
     ]
    }
   ],
   "source": [
    "# Generar una lista de números primos dentro de un rango:\n",
    "def generar_primos(inicio, fin):\n",
    "    primos = []\n",
    "    for num in range(inicio, fin + 1):\n",
    "        if num > 1:\n",
    "            for i in range(2, num):\n",
    "                if num % i == 0:\n",
    "                    break\n",
    "            else:\n",
    "                primos.append(num)\n",
    "    return primos\n",
    "\n",
    "# Solicita al usuario que ingrese el rango inicial y final.\n",
    "inicio_rango = int(input(\"Ingrese el rango inicial: \"))\n",
    "fin_rango = int(input(\"Ingrese el rango final: \"))\n",
    "\n",
    "# Llama a la función generar_primos y muestra los números primos en el rango especificado.\n",
    "print(\"Números primos:\", generar_primos(inicio_rango, fin_rango))"
   ]
  },
  {
   "cell_type": "code",
   "execution_count": 12,
   "id": "3fc8d7f1-86af-4d94-9c8a-d14b0e7c20e3",
   "metadata": {},
   "outputs": [
    {
     "name": "stdin",
     "output_type": "stream",
     "text": [
      "Ingrese una cadena:  Francia\n"
     ]
    },
    {
     "name": "stdout",
     "output_type": "stream",
     "text": [
      "Cadena invertida: aicnarF\n"
     ]
    }
   ],
   "source": [
    "# Revertir una cadena:\n",
    "# Solicita al usuario que ingrese una cadena.\n",
    "cadena = input(\"Ingrese una cadena: \")\n",
    "\n",
    "# Utiliza la técnica de rebanado para revertir la cadena.\n",
    "cadena_invertida = cadena[::-1]\n",
    "\n",
    "# Muestra la cadena invertida.\n",
    "print(\"Cadena invertida:\", cadena_invertida)"
   ]
  },
  {
   "cell_type": "code",
   "execution_count": 13,
   "id": "1ce362ac-761a-4ea0-874a-2b0fb47d6afd",
   "metadata": {},
   "outputs": [
    {
     "name": "stdin",
     "output_type": "stream",
     "text": [
      "Ingrese un número:  5678\n"
     ]
    },
    {
     "name": "stdout",
     "output_type": "stream",
     "text": [
      "No es un número perfecto\n"
     ]
    }
   ],
   "source": [
    "# Comprobar si un número es un número perfecto:\n",
    "def es_numero_perfecto(n):\n",
    "    suma = 0\n",
    "    # Itera a través de todos los números menores que n y suma los divisores.\n",
    "    for i in range(1, n):\n",
    "        if n % i == 0:\n",
    "            suma += i\n",
    "    # Comprueba si la suma de los divisores es igual al número original.\n",
    "    return suma == n\n",
    "\n",
    "numero = int(input(\"Ingrese un número: \"))\n",
    "if es_numero_perfecto(numero):\n",
    "    print(\"Número perfecto\")\n",
    "else:\n",
    "    print(\"No es un número perfecto\")"
   ]
  },
  {
   "cell_type": "code",
   "execution_count": 14,
   "id": "65823cb9-67f8-4dd4-96cd-3ab5ba6c1d43",
   "metadata": {},
   "outputs": [
    {
     "name": "stdin",
     "output_type": "stream",
     "text": [
      "Ingrese una cadena:  Noruega\n"
     ]
    },
    {
     "name": "stdout",
     "output_type": "stream",
     "text": [
      "Número de palabras: 1\n"
     ]
    }
   ],
   "source": [
    "# Contar el número de palabras en una cadena:\n",
    "# Solicita al usuario que ingrese una cadena.\n",
    "cadena = input(\"Ingrese una cadena: \")\n",
    "\n",
    "# Utiliza el método split() para dividir la cadena en palabras y luego cuenta el número de elementos en la lista resultante.\n",
    "cantidad_palabras = len(cadena.split())\n",
    "\n",
    "# Muestra el número de palabras.\n",
    "print(\"Número de palabras:\", cantidad_palabras)"
   ]
  },
  {
   "cell_type": "code",
   "execution_count": 15,
   "id": "18e6c517-9efd-4aac-9572-6f48809812b3",
   "metadata": {},
   "outputs": [
    {
     "name": "stdin",
     "output_type": "stream",
     "text": [
      "Ingrese la primera cadena:  Francia\n",
      "Ingrese la segunda cadena:  Noruega\n"
     ]
    },
    {
     "name": "stdout",
     "output_type": "stream",
     "text": [
      "Cadena concatenada: Francia Noruega\n"
     ]
    }
   ],
   "source": [
    "# Concatenar dos cadenas:\n",
    "# Solicita al usuario que ingrese dos cadenas.\n",
    "cadena1 = input(\"Ingrese la primera cadena: \")\n",
    "cadena2 = input(\"Ingrese la segunda cadena: \")\n",
    "\n",
    "# Utiliza el operador de concatenación para unir las dos cadenas con un espacio entre ellas.\n",
    "cadena_concatenada = cadena1 + ' ' + cadena2\n",
    "\n",
    "# Muestra la cadena concatenada.\n",
    "print(\"Cadena concatenada:\", cadena_concatenada)"
   ]
  },
  {
   "cell_type": "code",
   "execution_count": 16,
   "id": "1e07b061-dec9-4b90-ac12-71bebe6af8a2",
   "metadata": {},
   "outputs": [
    {
     "name": "stdin",
     "output_type": "stream",
     "text": [
      "Ingrese un número:  87\n"
     ]
    },
    {
     "name": "stdout",
     "output_type": "stream",
     "text": [
      "No es un cuadrado perfecto\n"
     ]
    }
   ],
   "source": [
    "# Comprobar si un número es un cuadrado perfecto:\n",
    "import math\n",
    "\n",
    "def es_cuadrado_perfecto(n):\n",
    "    # Calcula la raíz cuadrada del número.\n",
    "    raiz = math.isqrt(n)\n",
    "    # Comprueba si el cuadrado de la raíz es igual al número original.\n",
    "    return raiz * raiz == n\n",
    "    \n",
    "# Solicita al usuario que ingrese un número.\n",
    "numero = int(input(\"Ingrese un número: \"))\n",
    "if es_cuadrado_perfecto(numero):\n",
    "    print(\"Cuadrado perfecto\")\n",
    "else:\n",
    "    print(\"No es un cuadrado perfecto\")"
   ]
  },
  {
   "cell_type": "code",
   "execution_count": 17,
   "id": "d2ba934a-95db-434b-80d3-a3f38c8eafb3",
   "metadata": {},
   "outputs": [
    {
     "name": "stdout",
     "output_type": "stream",
     "text": [
      "Cadenas ordenadas: ['apple', 'banana', 'cherry', 'date', 'elderberry']\n"
     ]
    }
   ],
   "source": [
    "# Ordenar una lista de cadenas:\n",
    "strings = ['apple', 'banana', 'cherry', 'date', 'elderberry']\n",
    "\n",
    "# Utiliza la función sorted() para ordenar la lista de cadenas.\n",
    "strings_ordenadas = sorted(strings)\n",
    "\n",
    "# Muestra la lista ordenada de cadenas.\n",
    "print(\"Cadenas ordenadas:\", strings_ordenadas)"
   ]
  },
  {
   "cell_type": "code",
   "execution_count": 20,
   "id": "cdbb5518-50b7-45a6-8e5c-fa840e9bad92",
   "metadata": {},
   "outputs": [
    {
     "name": "stdin",
     "output_type": "stream",
     "text": [
      "Ingrese un entero:  6346\n"
     ]
    },
    {
     "name": "stdout",
     "output_type": "stream",
     "text": [
      "Número de dígitos: 4\n"
     ]
    }
   ],
   "source": [
    "# Contar el número de dígitos en un entero:\n",
    "# Solicita al usuario que ingrese un entero.\n",
    "numero = int(input(\"Ingrese un entero: \"))\n",
    "\n",
    "# Convierte el entero en su valor absoluto y luego a cadena para contar los dígitos.\n",
    "# Usando len(), determina la cantidad de dígitos en el número.\n",
    "num_digitos = len(str(abs(numero)))\n",
    "\n",
    "# Muestra el número de dígitos.\n",
    "print(\"Número de dígitos:\", num_digitos)"
   ]
  },
  {
   "cell_type": "code",
   "execution_count": 21,
   "id": "982330bd-6a76-4cc8-995d-c92f667ac07c",
   "metadata": {},
   "outputs": [
    {
     "name": "stdout",
     "output_type": "stream",
     "text": [
      "Contraseña generada: E`KE&KEln:M\\\n"
     ]
    }
   ],
   "source": [
    "# Generar una contraseña aleatoria:\n",
    "import random\n",
    "import string\n",
    "\n",
    "def generar_contraseña(longitud):\n",
    "    # Definir los caracteres a utilizar en la contraseña (letras mayúsculas y minúsculas, dígitos y signos de puntuación).\n",
    "    caracteres = string.ascii_letters + string.digits + string.punctuation\n",
    "    # Generar una contraseña aleatoria utilizando los caracteres definidos.\n",
    "    contraseña = ''.join(random.choice(caracteres) for _ in range(longitud))\n",
    "    return contraseña\n",
    "\n",
    "# Longitud de la contraseña a generar.\n",
    "longitud_contraseña = 12\n",
    "# Generar la contraseña y mostrarla.\n",
    "print(\"Contraseña generada:\", generar_contraseña(longitud_contraseña))"
   ]
  },
  {
   "cell_type": "code",
   "execution_count": 22,
   "id": "7d57c3cd-f7a2-40da-996f-018a6aec800e",
   "metadata": {},
   "outputs": [
    {
     "name": "stdin",
     "output_type": "stream",
     "text": [
      "Ingrese la base:  2342\n",
      "Ingrese el exponente:  23\n"
     ]
    },
    {
     "name": "stdout",
     "output_type": "stream",
     "text": [
      "Resultado: 3.165909433515004e+77\n"
     ]
    }
   ],
   "source": [
    "# Calcular el valor exponencial:\n",
    "# Solicita al usuario que ingrese la base y el exponente.\n",
    "base = float(input(\"Ingrese la base: \"))\n",
    "exponente = float(input(\"Ingrese el exponente: \"))\n",
    "\n",
    "# Calcula el valor exponencial utilizando el operador de potencia (**).\n",
    "resultado = base ** exponente\n",
    "\n",
    "# Muestra el resultado.\n",
    "print(\"Resultado:\", resultado)"
   ]
  },
  {
   "cell_type": "code",
   "execution_count": 23,
   "id": "605e2c0c-d5ab-48cd-95a4-23e555da20bb",
   "metadata": {},
   "outputs": [
    {
     "name": "stdin",
     "output_type": "stream",
     "text": [
      "Ingrese una dirección IP:  5364536\n"
     ]
    },
    {
     "name": "stdout",
     "output_type": "stream",
     "text": [
      "Dirección IP válida\n"
     ]
    }
   ],
   "source": [
    "# Validar una dirección IP:\n",
    "import socket\n",
    "\n",
    "def es_direccion_ip_valida(ip):\n",
    "    try:\n",
    "        # Intenta convertir la dirección IP a formato binario.\n",
    "        socket.inet_aton(ip)\n",
    "        return True\n",
    "    except socket.error:\n",
    "        # Si hay un error, la dirección IP es inválida.\n",
    "        return False\n",
    "        \n",
    "# Solicita al usuario que ingrese una dirección IP.\n",
    "direccion_ip = input(\"Ingrese una dirección IP: \")\n",
    "\n",
    "# Llama a la función es_direccion_ip_valida y muestra el resultado.\n",
    "if es_direccion_ip_valida(direccion_ip):\n",
    "    print(\"Dirección IP válida\")\n",
    "else:\n",
    "    print(\"Dirección IP inválida\")"
   ]
  },
  {
   "cell_type": "code",
   "execution_count": 24,
   "id": "8cde15fc-6566-4357-875d-361239a8e8b0",
   "metadata": {},
   "outputs": [
    {
     "name": "stdin",
     "output_type": "stream",
     "text": [
      "Ingrese el año:  2024\n",
      "Ingrese el mes:  4\n"
     ]
    },
    {
     "name": "stdout",
     "output_type": "stream",
     "text": [
      "     April 2024\n",
      "Mo Tu We Th Fr Sa Su\n",
      " 1  2  3  4  5  6  7\n",
      " 8  9 10 11 12 13 14\n",
      "15 16 17 18 19 20 21\n",
      "22 23 24 25 26 27 28\n",
      "29 30\n",
      "\n"
     ]
    }
   ],
   "source": [
    "# Imprimir el calendario de un mes y año dado:\n",
    "import calendar\n",
    "\n",
    "# Solicita al usuario que ingrese el año y el mes.\n",
    "año = int(input(\"Ingrese el año: \"))\n",
    "mes = int(input(\"Ingrese el mes: \"))\n",
    "\n",
    "# Utiliza la función month() de la biblioteca calendar para imprimir el calendario del mes y año especificados.\n",
    "print(calendar.month(año, mes))"
   ]
  },
  {
   "cell_type": "code",
   "execution_count": 25,
   "id": "4d6b0739-3f8e-4608-a11a-9ef8d944fb72",
   "metadata": {},
   "outputs": [
    {
     "name": "stdin",
     "output_type": "stream",
     "text": [
      "Ingrese el primer número:  423\n",
      "Ingrese el segundo número:  6546\n",
      "Ingrese el tercer número:  344\n"
     ]
    },
    {
     "name": "stdout",
     "output_type": "stream",
     "text": [
      "Mediana: 423.0\n"
     ]
    }
   ],
   "source": [
    "# Encontrar la mediana de tres valores:\n",
    "def encontrar_mediana(a, b, c):\n",
    "    # Ordena los tres valores en una lista y devuelve el valor del medio.\n",
    "    return sorted([a, b, c])[1]\n",
    "\n",
    "# Solicita al usuario que ingrese los tres números.\n",
    "num1 = float(input(\"Ingrese el primer número: \"))\n",
    "num2 = float(input(\"Ingrese el segundo número: \"))\n",
    "num3 = float(input(\"Ingrese el tercer número: \"))\n",
    "\n",
    "# Llama a la función encontrar_mediana y muestra el resultado.\n",
    "print(\"Mediana:\", encontrar_mediana(num1, num2, num3))"
   ]
  },
  {
   "cell_type": "code",
   "execution_count": 26,
   "id": "87adaa0e-f21e-4960-92f8-aff6e1a776be",
   "metadata": {},
   "outputs": [
    {
     "name": "stdin",
     "output_type": "stream",
     "text": [
      "Ingrese un número:  4353\n"
     ]
    },
    {
     "name": "stdout",
     "output_type": "stream",
     "text": [
      "Suma de los dígitos: 15\n"
     ]
    }
   ],
   "source": [
    "# Encontrar la suma de los dígitos en un número:\n",
    "def suma_de_digitos(n):\n",
    "    # Convierte el número a una cadena y luego suma cada dígito convertido a entero.\n",
    "    return sum(int(digito) for digito in str(n))\n",
    "\n",
    "# Solicita al usuario que ingrese un número.\n",
    "numero = int(input(\"Ingrese un número: \"))\n",
    "\n",
    "# Llama a la función suma_de_digitos y muestra el resultado.\n",
    "print(\"Suma de los dígitos:\", suma_de_digitos(numero))"
   ]
  },
  {
   "cell_type": "code",
   "execution_count": 28,
   "id": "f8e5b1c5-bc29-43cf-966d-920815d3e0f0",
   "metadata": {},
   "outputs": [
    {
     "name": "stdin",
     "output_type": "stream",
     "text": [
      "Ingrese el primer número:  6453\n",
      "Ingrese el segundo número:  876\n",
      "Ingrese el tercer número:  35\n"
     ]
    },
    {
     "name": "stdout",
     "output_type": "stream",
     "text": [
      "El número más grande es: 6453.0\n"
     ]
    }
   ],
   "source": [
    "# Encontrar el mayor entre tres números:\n",
    "# Solicita al usuario que ingrese los tres números.\n",
    "a = float(input(\"Ingrese el primer número: \"))\n",
    "b = float(input(\"Ingrese el segundo número: \"))\n",
    "c = float(input(\"Ingrese el tercer número: \"))\n",
    "\n",
    "# Utiliza la función max() para encontrar el número máximo entre los tres números ingresados.\n",
    "maximo = max(a, b, c)\n",
    "\n",
    "# Muestra el número máximo encontrado.\n",
    "print(\"El número más grande es:\", maximo)"
   ]
  },
  {
   "cell_type": "code",
   "execution_count": 30,
   "id": "b2ee4a0f-0ab7-44c1-a7cf-733211c1837d",
   "metadata": {},
   "outputs": [
    {
     "name": "stdin",
     "output_type": "stream",
     "text": [
      "Ingrese un número decimal:  34\n"
     ]
    },
    {
     "name": "stdout",
     "output_type": "stream",
     "text": [
      "Binario: 100010\n"
     ]
    }
   ],
   "source": [
    "# Convertir un número decimal a binario:\n",
    "# Solicita al usuario que ingrese un número decimal.\n",
    "decimal = int(input(\"Ingrese un número decimal: \"))\n",
    "\n",
    "# Utiliza la función bin() para convertir el número decimal a binario.\n",
    "# Se elimina '0b' al principio del resultado para obtener solo la representación binaria.\n",
    "binario = bin(decimal)[2:]\n",
    "\n",
    "# Muestra la representación binaria del número decimal.\n",
    "print(\"Binario:\", binario)"
   ]
  },
  {
   "cell_type": "code",
   "execution_count": 31,
   "id": "8b7ddbf9-732f-4490-ae49-98f4434b3fcc",
   "metadata": {},
   "outputs": [
    {
     "name": "stdin",
     "output_type": "stream",
     "text": [
      "Ingrese el primer número:  5345\n",
      "Ingrese el segundo número:  7567\n"
     ]
    },
    {
     "name": "stdout",
     "output_type": "stream",
     "text": [
      "El Máximo Común Divisor (MCD) de 5345 y 7567 es: 1\n",
      "El Mínimo Común Múltiplo (MCM) de 5345 y 7567 es: 40445615\n"
     ]
    }
   ],
   "source": [
    "# Encontrar el Máximo Común Divisor (MCD) y el Mínimo Común Múltiplo (MCM) de dos números:\n",
    "import math\n",
    "\n",
    "# Definir dos números.\n",
    "num1 = int(input(\"Ingrese el primer número: \"))\n",
    "num2 = int(input(\"Ingrese el segundo número: \"))\n",
    "\n",
    "# Calcular el Máximo Común Divisor (MCD) utilizando la función gcd() de la biblioteca math.\n",
    "mcd = math.gcd(num1, num2)\n",
    "print(\"El Máximo Común Divisor (MCD) de\", num1, \"y\", num2, \"es:\", mcd)\n",
    "\n",
    "# Calcular el Mínimo Común Múltiplo (MCM) utilizando la fórmula: MCM(a, b) = (a * b) // MCD(a, b).\n",
    "mcm = (num1 * num2) // mcd\n",
    "print(\"El Mínimo Común Múltiplo (MCM) de\", num1, \"y\", num2, \"es:\", mcm)"
   ]
  },
  {
   "cell_type": "code",
   "execution_count": 32,
   "id": "d3802c6f-fdbe-4b67-9525-33258c0756d7",
   "metadata": {},
   "outputs": [
    {
     "name": "stdout",
     "output_type": "stream",
     "text": [
      "Suma de los elementos: 15\n"
     ]
    }
   ],
   "source": [
    "# Encontrar la suma de elementos en una lista:\n",
    "# Definir una lista.\n",
    "mi_lista = [1, 2, 3, 4, 5]\n",
    "\n",
    "# Utilizar la función sum() para encontrar la suma de los elementos en la lista.\n",
    "suma_de_elementos = sum(mi_lista)\n",
    "\n",
    "# Mostrar la suma de los elementos.\n",
    "print(\"Suma de los elementos:\", suma_de_elementos)"
   ]
  },
  {
   "cell_type": "code",
   "execution_count": 19,
   "id": "2ed659b4-f07a-4d7e-b23e-3a6f4ed1b547",
   "metadata": {},
   "outputs": [
    {
     "name": "stdin",
     "output_type": "stream",
     "text": [
      "Ingrese una dirección de correo electrónico:  asburon@gmail.com\n"
     ]
    },
    {
     "name": "stdout",
     "output_type": "stream",
     "text": [
      "Dirección de correo electrónico válida\n"
     ]
    }
   ],
   "source": [
    "# Verificar si una cadena es una dirección de correo electrónico válida:\n",
    "import re\n",
    "\n",
    "def es_direccion_email_valida(email):\n",
    "    return bool(re.match(r\"[^@]+@[^@]+\\.[^@]+\", email))\n",
    "\n",
    "email_ingresado = input(\"Ingrese una dirección de correo electrónico: \")\n",
    "if es_direccion_email_valida(email_ingresado):\n",
    "    print(\"Dirección de correo electrónico válida\")\n",
    "else:\n",
    "    print(\"Dirección de correo electrónico inválida\")"
   ]
  },
  {
   "cell_type": "code",
   "execution_count": 20,
   "id": "1f930cc3-ae78-4c74-86bb-c961c17676ca",
   "metadata": {},
   "outputs": [
    {
     "name": "stdout",
     "output_type": "stream",
     "text": [
      "Lista aleatoria: [17, 3, 86, 44, 89]\n"
     ]
    }
   ],
   "source": [
    "# Generar una lista aleatoria de números:\n",
    "import random\n",
    "\n",
    "lista_aleatoria = random.sample(range(1, 100), 5)\n",
    "print(\"Lista aleatoria:\", lista_aleatoria)"
   ]
  },
  {
   "cell_type": "code",
   "execution_count": 21,
   "id": "d46c02ab-4c84-41f4-9e37-9db69624cc8e",
   "metadata": {},
   "outputs": [
    {
     "name": "stdout",
     "output_type": "stream",
     "text": [
      "Desviación estándar: 1.5811388300841898\n"
     ]
    }
   ],
   "source": [
    "# Calcular la desviación estándar de una lista de números:\n",
    "import statistics\n",
    "\n",
    "datos = [1, 2, 3, 4, 5]\n",
    "desviacion_estandar = statistics.stdev(datos)\n",
    "print(\"Desviación estándar:\", desviacion_estandar)"
   ]
  },
  {
   "cell_type": "code",
   "execution_count": 22,
   "id": "d31e255f-c8f0-4e7d-a288-46422e83c7e0",
   "metadata": {},
   "outputs": [
    {
     "name": "stdout",
     "output_type": "stream",
     "text": [
      "Contraseña generada: uwqEiQ!Q!NCd\n"
     ]
    }
   ],
   "source": [
    "# Generar una contraseña aleatoria con requisitos específicos:\n",
    "import random\n",
    "import string\n",
    "\n",
    "def generar_contraseña(longitud, incluir_digitos=True, incluir_caracteres_especiales=True):\n",
    "    caracteres = string.ascii_letters\n",
    "    if incluir_digitos:\n",
    "        caracteres += string.digits\n",
    "    if incluir_caracteres_especiales:\n",
    "        caracteres += string.punctuation\n",
    "    contraseña = ''.join(random.choice(caracteres) for _ in range(longitud))\n",
    "    return contraseña\n",
    "\n",
    "longitud_contraseña = 12\n",
    "print(\"Contraseña generada:\", generar_contraseña(longitud_contraseña))"
   ]
  },
  {
   "cell_type": "code",
   "execution_count": 23,
   "id": "98d6f5d5-efec-4367-83a8-4487b31d1932",
   "metadata": {},
   "outputs": [
    {
     "name": "stdin",
     "output_type": "stream",
     "text": [
      "Ingrese el primer número:  764\n",
      "Ingrese el segundo número:  45645\n"
     ]
    },
    {
     "name": "stdout",
     "output_type": "stream",
     "text": [
      "Suma: 46409.0\n",
      "Diferencia: -44881.0\n",
      "Producto: 34872780.0\n",
      "Cociente: 0.016737868331690216\n"
     ]
    }
   ],
   "source": [
    "# Implementar una calculadora simple:\n",
    "def sumar(x, y):\n",
    "    return x + y\n",
    "\n",
    "def restar(x, y):\n",
    "    return x - y\n",
    "\n",
    "def multiplicar(x, y):\n",
    "    return x * y\n",
    "\n",
    "def dividir(x, y):\n",
    "    if y == 0:\n",
    "        return \"No se puede dividir por cero\"\n",
    "    return x / y\n",
    "\n",
    "num1 = float(input(\"Ingrese el primer número: \"))\n",
    "num2 = float(input(\"Ingrese el segundo número: \"))\n",
    "\n",
    "print(\"Suma:\", sumar(num1, num2))\n",
    "print(\"Diferencia:\", restar(num1, num2))\n",
    "print(\"Producto:\", multiplicar(num1, num2))\n",
    "print(\"Cociente:\", dividir(num1, num2))"
   ]
  },
  {
   "cell_type": "code",
   "execution_count": 33,
   "id": "066a6a6e-b7da-4b81-9643-d4c566264050",
   "metadata": {},
   "outputs": [
    {
     "name": "stdout",
     "output_type": "stream",
     "text": [
      "Lista de diccionarios ordenada: [{'name': 'Jane', 'age': 25}, {'name': 'John', 'age': 30}, {'name': 'Bob', 'age': 35}]\n"
     ]
    }
   ],
   "source": [
    "# Ordenar una lista de diccionarios por una clave específica:\n",
    "# Definir una lista de diccionarios.\n",
    "lista_de_diccionarios = [{'name': 'John', 'age': 30}, {'name': 'Jane', 'age': 25},\n",
    "                        {'name': 'Bob', 'age': 35}]\n",
    "\n",
    "# Utilizar la función sorted() para ordenar la lista de diccionarios por la clave 'age'.\n",
    "# La clave 'key' especifica una función de ordenamiento personalizada que extrae la edad de cada diccionario.\n",
    "lista_ordenada = sorted(lista_de_diccionarios, key=lambda x: x['age'])\n",
    "\n",
    "# Mostrar la lista de diccionarios ordenada.\n",
    "print(\"Lista de diccionarios ordenada:\", lista_ordenada)"
   ]
  },
  {
   "cell_type": "code",
   "execution_count": 26,
   "id": "beca24ae-c3f7-4cd0-a32e-08a7f64de73b",
   "metadata": {},
   "outputs": [
    {
     "name": "stdout",
     "output_type": "stream",
     "text": [
      "Matriz aleatoria:\n",
      "[[0.04886981 0.0166007  0.87062023]\n",
      " [0.471779   0.89327991 0.89705373]\n",
      " [0.1501042  0.1030853  0.76082135]]\n"
     ]
    }
   ],
   "source": [
    "# Generar una matriz aleatoria:\n",
    "import numpy as np\n",
    "\n",
    "filas = 3\n",
    "columnas = 3\n",
    "matriz_aleatoria = np.random.rand(filas, columnas)\n",
    "\n",
    "print(\"Matriz aleatoria:\")\n",
    "print(matriz_aleatoria)"
   ]
  },
  {
   "cell_type": "code",
   "execution_count": 29,
   "id": "dc45fb00-c9ec-49dc-aa14-e71903b249ac",
   "metadata": {},
   "outputs": [
    {
     "name": "stdin",
     "output_type": "stream",
     "text": [
      "Ingrese una URL:  http://www.google.es\n"
     ]
    },
    {
     "name": "stdout",
     "output_type": "stream",
     "text": [
      "URL válida\n"
     ]
    }
   ],
   "source": [
    "# Verificar si una cadena es una URL válida:\n",
    "import re\n",
    "\n",
    "def es_url_valida(url):\n",
    "    regex = re.compile(\n",
    "        r'^(?:http|ftp)s?://'  # Protocolo\n",
    "        r'(?:(?:[A-Z0-9](?:[A-Z0-9-]{0,61}[A-Z0-9])?\\.)+(?:[A-Z]{2,6}\\.?|[A-Z0-9-]{2,}\\.?)|'  # Dominio\n",
    "        r'localhost|'  # Localhost\n",
    "        r'\\d{1,3}\\.\\d{1,3}\\.\\d{1,3}\\.\\d{1,3}|'  # Dirección IP (IPv4)\n",
    "        r'\\[?[A-F0-9]*:[A-F0-9:]+\\]?)'  # Dirección IP (IPv6)\n",
    "        r'(?::\\d+)?'  # Puerto\n",
    "        r'(?:/?|[/?]\\S+)$', re.IGNORECASE)  # Rutas y parámetros opcionales\n",
    "    return re.match(regex, url) is not None\n",
    "\n",
    "input_url = input(\"Ingrese una URL: \")\n",
    "if es_url_valida(input_url):\n",
    "    print(\"URL válida\")\n",
    "else:\n",
    "    print(\"URL inválida\")"
   ]
  },
  {
   "cell_type": "code",
   "execution_count": 35,
   "id": "4817de96-ba03-4e57-ac87-46c38dd12d5c",
   "metadata": {},
   "outputs": [
    {
     "name": "stdin",
     "output_type": "stream",
     "text": [
      "¿Desea ver el siguiente número primo? (S/N)  2344\n"
     ]
    }
   ],
   "source": [
    "#Calcula el número primo\n",
    "\n",
    "#Comprueba si el número dado x es primo o no\n",
    "\n",
    "def es_primo(x):\n",
    "    if x == 2:\n",
    "        return True\n",
    "    if x % 2 == 0:\n",
    "        return False\n",
    "    for i in range(3, int(x**0.5)+1, 2):\n",
    "        if x % i == 0:\n",
    "            return False\n",
    "    return True\n",
    "\n",
    "#Devuelve el siguiente número primo después del primo_actual\n",
    "\n",
    "def generar_primo(primo_actual):  \n",
    "    nuevo_primo = primo_actual + 1\n",
    "    while True:\n",
    "        if not es_primo(nuevo_primo):\n",
    "            nuevo_primo += 1\n",
    "        else:\n",
    "            break\n",
    "    return nuevo_primo\n",
    "\n",
    "\n",
    "def main():  \n",
    "    # Función principal\n",
    "    primo_actual = 2\n",
    "    while True:\n",
    "        respuesta = input('¿Desea ver el siguiente número primo? (S/N) ')\n",
    "        if respuesta.lower().startswith('s'):\n",
    "            print(primo_actual)\n",
    "            primo_actual = generar_primo(primo_actual)\n",
    "        else:\n",
    "            break\n",
    "\n",
    "if __name__ == '__main__':\n",
    "    main()"
   ]
  }
 ],
 "metadata": {
  "kernelspec": {
   "display_name": "Python 3 (ipykernel)",
   "language": "python",
   "name": "python3"
  },
  "language_info": {
   "codemirror_mode": {
    "name": "ipython",
    "version": 3
   },
   "file_extension": ".py",
   "mimetype": "text/x-python",
   "name": "python",
   "nbconvert_exporter": "python",
   "pygments_lexer": "ipython3",
   "version": "3.12.2"
  }
 },
 "nbformat": 4,
 "nbformat_minor": 5
}
